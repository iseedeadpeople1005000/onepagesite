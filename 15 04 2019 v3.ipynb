{
 "cells": [
  {
   "cell_type": "code",
   "execution_count": 3,
   "metadata": {},
   "outputs": [],
   "source": [
    "import time, os, tqdm\n",
    "import speech_recognition as sr"
   ]
  },
  {
   "cell_type": "code",
   "execution_count": null,
   "metadata": {},
   "outputs": [],
   "source": []
  },
  {
   "cell_type": "code",
   "execution_count": 7,
   "metadata": {},
   "outputs": [],
   "source": [
    "audio_path = []\n",
    "path = os.listdir(r\"C:\\Users\\iseedeadpeople\\audio\\\\\")\n",
    "for name in path:\n",
    "    if name.endswith(\".flac\"):\n",
    "        audio_path.append(name)\n",
    "with open(r\"C:\\Users\\iseedeadpeople\\audio\\catalog.txt\", \"w\") as catalog:\n",
    "    catalog.write(str(audio_path))"
   ]
  },
  {
   "cell_type": "code",
   "execution_count": null,
   "metadata": {},
   "outputs": [],
   "source": []
  },
  {
   "cell_type": "code",
   "execution_count": 69,
   "metadata": {},
   "outputs": [],
   "source": [
    "def googlehelp(filename):\n",
    "    \n",
    "    audioname = str(filename)\n",
    "    txtname = audioname.replace(\".flac\", \".txt\")\n",
    "    with sr.AudioFile(r\"C:\\Users\\iseedeadpeople\\audio\\\\\" + audioname) as source:\n",
    "        audio = r.record(source)\n",
    "        try:\n",
    "            text = r.recognize_google(audio, language=\"ru-RU\")\n",
    "            print(text, end=\"\\n\")\n",
    "            with open(txtname, mode=\"w\") as file:\n",
    "                file.write(text)\n",
    "        except Exception as e:\n",
    "                print(e)"
   ]
  },
  {
   "cell_type": "code",
   "execution_count": 70,
   "metadata": {},
   "outputs": [
    {
     "name": "stdout",
     "output_type": "stream",
     "text": [
      "\n"
     ]
    }
   ],
   "source": [
    "googlehelp('МТС жесткое общение с оператором.flac')"
   ]
  },
  {
   "cell_type": "code",
   "execution_count": 4,
   "metadata": {},
   "outputs": [],
   "source": [
    "r = sr.Recognizer()\n",
    "path = os.listdir(r\"C:\\Users\\iseedeadpeople\\audio\\\\\")\n",
    "audio_path = []\n",
    "allfiles = {}\n",
    "\n",
    "for name in path:\n",
    "    if name.endswith(\".flac\"):\n",
    "        audio_path.append(name)\n",
    "\n",
    "for name in audio_path:\n",
    "    with open(r\"C:\\Users\\iseedeadpeople\\audio\\catalog.txt\", \"a+\") as catalog:\n",
    "        catalog.write(str(name) + \"\\n\")\n",
    "    audioname = name\n",
    "    txtname = audioname.replace(\".flac\", \".txt\")\n",
    "    with sr.AudioFile(r\"C:\\Users\\iseedeadpeople\\audio\\\\\" + audioname) as source:\n",
    "        audio = r.record(source)\n",
    "        try:\n",
    "            text = r.recognize_google(audio, language=\"ru-RU\")\n",
    "            with open(r\"C:\\Users\\iseedeadpeople\\audio\\\\\" + txtname, mode=\"w\") as file:\n",
    "                file.write(text.lower())\n",
    "        except Exception as e:\n",
    "            print(e)"
   ]
  },
  {
   "cell_type": "code",
   "execution_count": 73,
   "metadata": {},
   "outputs": [
    {
     "data": {
      "text/plain": [
       "['бигмак.flac', 'двери.flac', 'работа.flac', 'работа1.flac']"
      ]
     },
     "execution_count": 73,
     "metadata": {},
     "output_type": "execute_result"
    }
   ],
   "source": [
    "audio_path"
   ]
  },
  {
   "cell_type": "code",
   "execution_count": null,
   "metadata": {},
   "outputs": [],
   "source": []
  },
  {
   "cell_type": "code",
   "execution_count": null,
   "metadata": {},
   "outputs": [],
   "source": []
  },
  {
   "cell_type": "code",
   "execution_count": 25,
   "metadata": {},
   "outputs": [
    {
     "name": "stdout",
     "output_type": "stream",
     "text": [
      "Алло Алло добрый день Здравствуйте это служба контроля качества компании вынос в прошлом году в апреле заказывали рулонные шторы Да я звонил уточнить насколько довольна качеством Что прекрасно Очень довольно довольно наверно в этом году буду заказывать но как раз сейчас до 20 числа скидка 25% на заказ А она мне как-то заинтересовала но я сейчас не в России поэтому вернусь только в воскресенье уже наверное скидки не будет посмотреть есть возможность заморозить скидку продлить то какой у нас уже брали реальный Так давайте тогда я ваше ВКонтакте хочу вам перезвонит наш специалист и давайте давайте Если это возможно конечно Хорошо Давайте тогда я отмечу с вами свяжется Хорошо тогда давай признательна Спасибо большое До свидания Спасибо\n"
     ]
    }
   ],
   "source": [
    "        with sr.AudioFile(r\"C:\\Users\\iseedeadpeople\\audio\\\\\" + audioname) as source:\n",
    "            audio = r.record(source)\n",
    "        try:\n",
    "            text = r.recognize_google(audio, language=\"ru-RU\")\n",
    "            print(text, end=\"\\n\")\n",
    "            with open(r\"C:\\Users\\iseedeadpeople\\audio\\\\\" + txtname, mode=\"a+\") as file:\n",
    "                file.write(\"/n\")\n",
    "                file.write(text)\n",
    "        except Exception as e:\n",
    "            print(e)"
   ]
  },
  {
   "cell_type": "code",
   "execution_count": null,
   "metadata": {},
   "outputs": [],
   "source": []
  },
  {
   "cell_type": "code",
   "execution_count": null,
   "metadata": {},
   "outputs": [],
   "source": [
    "\n",
    "for files in tqdm.tqdm(audio_path):\n",
    "    with open(r\"C:\\Users\\iseedeadpeople\\audio\\\\\" + files, encoding=\"1251\") as file:\n",
    "        allfiles[files] = file.read()"
   ]
  },
  {
   "cell_type": "code",
   "execution_count": 5,
   "metadata": {},
   "outputs": [],
   "source": [
    "r.energy_threshold = 300"
   ]
  },
  {
   "cell_type": "code",
   "execution_count": 6,
   "metadata": {},
   "outputs": [
    {
     "ename": "AssertionError",
     "evalue": "Audio source must be entered before adjusting, see documentation for ``AudioSource``; are you using ``source`` outside of a ``with`` statement?",
     "output_type": "error",
     "traceback": [
      "\u001b[1;31m---------------------------------------------------------------------------\u001b[0m",
      "\u001b[1;31mAssertionError\u001b[0m                            Traceback (most recent call last)",
      "\u001b[1;32m<ipython-input-6-06da1d61ff3e>\u001b[0m in \u001b[0;36m<module>\u001b[1;34m()\u001b[0m\n\u001b[1;32m----> 1\u001b[1;33m \u001b[0mr\u001b[0m\u001b[1;33m.\u001b[0m\u001b[0madjust_for_ambient_noise\u001b[0m\u001b[1;33m(\u001b[0m\u001b[0msource\u001b[0m\u001b[1;33m,\u001b[0m \u001b[0mduration\u001b[0m \u001b[1;33m=\u001b[0m \u001b[1;36m1\u001b[0m\u001b[1;33m)\u001b[0m\u001b[1;33m\u001b[0m\u001b[0m\n\u001b[0m",
      "\u001b[1;32m~\\Anaconda3\\lib\\site-packages\\speech_recognition\\__init__.py\u001b[0m in \u001b[0;36madjust_for_ambient_noise\u001b[1;34m(self, source, duration)\u001b[0m\n\u001b[0;32m    517\u001b[0m         \"\"\"\n\u001b[0;32m    518\u001b[0m         \u001b[1;32massert\u001b[0m \u001b[0misinstance\u001b[0m\u001b[1;33m(\u001b[0m\u001b[0msource\u001b[0m\u001b[1;33m,\u001b[0m \u001b[0mAudioSource\u001b[0m\u001b[1;33m)\u001b[0m\u001b[1;33m,\u001b[0m \u001b[1;34m\"Source must be an audio source\"\u001b[0m\u001b[1;33m\u001b[0m\u001b[0m\n\u001b[1;32m--> 519\u001b[1;33m         \u001b[1;32massert\u001b[0m \u001b[0msource\u001b[0m\u001b[1;33m.\u001b[0m\u001b[0mstream\u001b[0m \u001b[1;32mis\u001b[0m \u001b[1;32mnot\u001b[0m \u001b[1;32mNone\u001b[0m\u001b[1;33m,\u001b[0m \u001b[1;34m\"Audio source must be entered before adjusting, see documentation for ``AudioSource``; are you using ``source`` outside of a ``with`` statement?\"\u001b[0m\u001b[1;33m\u001b[0m\u001b[0m\n\u001b[0m\u001b[0;32m    520\u001b[0m         \u001b[1;32massert\u001b[0m \u001b[0mself\u001b[0m\u001b[1;33m.\u001b[0m\u001b[0mpause_threshold\u001b[0m \u001b[1;33m>=\u001b[0m \u001b[0mself\u001b[0m\u001b[1;33m.\u001b[0m\u001b[0mnon_speaking_duration\u001b[0m \u001b[1;33m>=\u001b[0m \u001b[1;36m0\u001b[0m\u001b[1;33m\u001b[0m\u001b[0m\n\u001b[0;32m    521\u001b[0m \u001b[1;33m\u001b[0m\u001b[0m\n",
      "\u001b[1;31mAssertionError\u001b[0m: Audio source must be entered before adjusting, see documentation for ``AudioSource``; are you using ``source`` outside of a ``with`` statement?"
     ]
    }
   ],
   "source": [
    "r.adjust_for_ambient_noise(source, duration = 1)"
   ]
  },
  {
   "cell_type": "code",
   "execution_count": null,
   "metadata": {},
   "outputs": [],
   "source": []
  }
 ],
 "metadata": {
  "kernelspec": {
   "display_name": "Python 3",
   "language": "python",
   "name": "python3"
  },
  "language_info": {
   "codemirror_mode": {
    "name": "ipython",
    "version": 3
   },
   "file_extension": ".py",
   "mimetype": "text/x-python",
   "name": "python",
   "nbconvert_exporter": "python",
   "pygments_lexer": "ipython3",
   "version": "3.7.0"
  }
 },
 "nbformat": 4,
 "nbformat_minor": 2
}
