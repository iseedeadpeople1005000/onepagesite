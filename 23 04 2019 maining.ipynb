{
 "cells": [
  {
   "cell_type": "code",
   "execution_count": 1,
   "metadata": {},
   "outputs": [],
   "source": [
    "from bs4 import BeautifulSoup\n",
    "import requests, json, re\n",
    "from collections import defaultdict\n",
    "import numpy as np\n",
    "import pandas as pd\n",
    "from matplotlib import pyplot as plt\n",
    "from sklearn.decomposition import PCA\n",
    "%matplotlib inline"
   ]
  },
  {
   "cell_type": "code",
   "execution_count": null,
   "metadata": {},
   "outputs": [],
   "source": []
  },
  {
   "cell_type": "code",
   "execution_count": 2,
   "metadata": {},
   "outputs": [],
   "source": [
    "req = requests.get(\"https://data.nola.gov/api/views/jsrk-e98x/rows.json?accessType=DOWNLOAD\")"
   ]
  },
  {
   "cell_type": "code",
   "execution_count": 3,
   "metadata": {},
   "outputs": [
    {
     "data": {
      "text/plain": [
       "<Response [200]>"
      ]
     },
     "execution_count": 3,
     "metadata": {},
     "output_type": "execute_result"
    }
   ],
   "source": [
    "req"
   ]
  },
  {
   "cell_type": "code",
   "execution_count": 4,
   "metadata": {},
   "outputs": [],
   "source": [
    "html = BeautifulSoup(req.text)"
   ]
  },
  {
   "cell_type": "code",
   "execution_count": 5,
   "metadata": {},
   "outputs": [],
   "source": [
    "with open(r\"C:\\Users\\iseedeadpeople\\audio\\data-maining text.txt\", \"w\", encoding=\"utf8\") as file:\n",
    "    file.write(str(req.text))"
   ]
  },
  {
   "cell_type": "code",
   "execution_count": 6,
   "metadata": {},
   "outputs": [],
   "source": [
    "with open(r\"C:\\Users\\iseedeadpeople\\audio\\data-maining html.txt\", \"w\", encoding=\"utf8\") as file:\n",
    "    file.write(str(html))"
   ]
  },
  {
   "cell_type": "code",
   "execution_count": 7,
   "metadata": {},
   "outputs": [],
   "source": [
    "vhod = req.text.replace(\"\\\\n\", \" \").replace(\"\\xa0\", \" \").replace(\"\\xad\", \" \").lower()"
   ]
  },
  {
   "cell_type": "code",
   "execution_count": 8,
   "metadata": {},
   "outputs": [],
   "source": [
    "result = re.findall(r'\"([^\"]{100,})\"', vhod)"
   ]
  },
  {
   "cell_type": "code",
   "execution_count": 13,
   "metadata": {},
   "outputs": [
    {
     "name": "stdout",
     "output_type": "stream",
     "text": [
      "this data comes from https://nola.nextrequest.com/ and is a feed of all public records requests that have been published. some requests may not be included because they contain sensitive or personally identifiable information.\n",
      " \n",
      "...               re:     louisiana public records request                           the guste iii new affordable housing units project                           new orleans, louisiana       to whom it may concern:   this letter is a request for information from the city of new orleans, department of safety and permits (“dsp”) pursuant to the louisiana public records act, § 44:1 et seq. this request pertains to information related to the guste iii: new affordable housing units project located at 1302 simon bolivar avenue, new orleans, louisiana and bounded by south robertson street, clio street, simon bolivar avenue and thalia street (the “project”). the project is being developed by the housing authority of new orleans (“hano”).       in accordance with the louisiana public records act and applicable regulations, i respectfully request copies of each of the following documents, files, records, or things, whether they be electronic, paper, or otherwise, that are in your possession, custody or control:         all contracts and/or agreements between dsp and hano related to the project.   all letters, e-mails, electronic transmission and other documents evidencing communications between dsp and any party (including but not limited to correspondence between mark clayton, patrick kennedy, and/or zachary r. smith) related to the following topics:         (a) substantial completion of the project;   (b) final completion of the project;   (c) “green tags” issued for the project;   (d) inspections of the project;   (e) permits for the project;   (f) certificates of occupancy for the project;   (g) any alleged delays to the project;   (h) partial certificates of occupancy for the project;   (i) addresses for the project; and   (j) gas service to the project.         any and all of the following documents related to the project: (a) inspection reports; (b) photos and/or videos of the project; and (c) permission to occupy and/or requests for permission to occupy the project.     ....\n",
      " \n",
      "partner engineering and science, inc. is conducting a phase i environmental site assessment and/or a property condition report assessment on the following property:     capdau home for the aged   3821 franklin avenue   new orleans, louisiana 70122   partner project 213666.3    as part of the investigation, we are requesting, under the freedom of information act, any zoning, building, fire, or environmental health records you have for the above-referenced property pertaining to the following:     current zoning designation, if the current use is permitted, and conditional uses (if any)   any unresolved notices of violation/to comply, date of last inspection by the building department, copies of any open building department permits, copies of certificates of occupancy, copies of permits and records for any current or historic storage tanks   hazardous materials incidents, fire inspection records, outstanding fire code violations   records of asbestos or lead-based paint, septic system and water well information, human health concerns   we would like to obtain a copy of the occupancy permit for the address, and review building permits that would that may be available for this property (can you confirm how far back building department records go, initial permit confirming a development date?)   please indicate if you have any current or archived planning records pertaining to land activity and use limitations (auls), and/or brownfields designations  please email, fax, or call me with any response and/ or finding and notify me in advance if the cost to research and pull the records will exceed $25.00.  your assistance is greatly appreciated.       sincerely,       katie l. morgan   kmorgan@partneresi.com   phone: 504-777-3956\n",
      " \n",
      "please provide me a copy of all payments made to corvel enterprises comp, inc since january 2017, including but not limited to payments on the professional services contract between the city of new orleans and corvel enterprises comp, inc. rfp no. 7017-02118, third party administrator of workers compensation professional services agreement executed on march 24, 2017 effective april 1, 2017, designated k 17-364   please also provide a copy of all contract audit results for the above referenced contract on the neworleans.dbesystem.com, city of new orleans office of supplier diversity audit of payments to subcontractors by corvel enterprises comp, inc. for k 17-364 for every month since march 2017, including the list of subcontractors and how much was paid to them.\n",
      " \n",
      "could you please provide any information you have available regarding records of spills, releases, or fires   involving hazardous materials as well as underground and/or aboveground storage tank and/or grease trap information at a   property located at 400 north peters street, new orleans, louisiana.\n",
      " \n",
      "i am reporting 1008 and 1010 washington ave. new orleans la working without permission    oct 05 and oct 06,2018 historical house , took down the front of the house and buid up .   we'll keeping watching and look at the corrupt process at city hall.\n",
      " \n",
      "i request the records from the department which have them ?   i want to know what photos they took? who took that photos?\n",
      " \n",
      "all 'public records' as that term is defined in la.r.s. 44:1(2)(a), dating from september 1, 2005 through and including the date of your response, that in any way relate to the properties situated at 5416 and 5420 baccich street (lots 11 and 12, square 4205, 3rd municipal district; tax bill ##'s 38w418611 and 38w418615).\n",
      " \n",
      "february 22, 2017       via e-mail and us mail   nola.nextrequest.com   mr. dwayne j. franklin   assistant city attorney   city of new orleans   1300 perdido st., ste. 5e03   new orleans, la  70112                   re:     contract between the city of new orleans and                           southern tire mart, llc                           my client:  twin commercial tire co.                           file no.  2987-8       dear mr. franklin:                   pursuant to the louisiana public records act, louisiana revised statute section 44:1 et seq., i hereby request the following public records.       copies of all relevant records pertaining to the contract by and between the city of new orleans and southern tire mart, llc       as you know, the public records act requires that public records be provided for inspection and, if requested, copying within, at most, three days.  if any of the records do not exist or will not be provided, you must notify me within, at most, three days regarding the reason(s) for the delay or refusal. if at all possible, i would like to receive this information in electronic form.  my email address is tgwilkinson@bellsouth,net.                   thanks very much for your assistance.  please don’t hesitate to call me with any questions at (504) 364-1892 with any questions.                   i look forward to your prompt response.                                                                                                       sincerely,                                                                                                           thomas g. wilkinson       tgw/gs\n",
      " \n",
      "i am requesting an opportunity to inspect or obtain copies of public records that demonstrate the sequencing of signal lights at the intersection of poydras street at its intersection with magazine street, in new orleans, la.  in particular westbound poydras intersection with magazine southbound lanes at 2:00 a.m. - 3:00 a.m. on july 23, 2017.  i attach a copy of the police report regarding an incident at such site.\n",
      " \n",
      "we are hereby requesting to review and inspect certain documents related to the municipal yacht harbor marina redevelopment project (\\\n",
      " \n",
      "). specifically, we are requesting to review the following:     itemized bid tabulation for the project;   complete copy of the bid submitted by the bld services, llc for the project, including a copy of the bid envelope;   complete copy of the bid submitted by the tktmj, inc. for the project, including a copy of the bid envelope;   complete copy of the post-bid documents submitted by the two (2) apparent low bidders for the project; and   complete copies of any protest(s) filed for the project, including but not limited to any and all documents submitted in connection with such protest(s) and any and all communications related to any such protest(s).\n",
      " \n",
      "a copy of a document that identifies any and all source of funding (i.e., grants, sales tax, millage) to the nola business alliance since its inception.   copy of all appointments to the nola business alliance board since its inception\n",
      " \n",
      "i am writing today to request the total taxes paid by ms. velma payne for a property bearing municipal address -1870 n rocheblave - tax bill no. 37w206408, assessed in the name of lester matava for each year of 2008-2019.\n",
      " \n",
      "any and all documents related to   anouar ait iddir for 3711 annunciation street, new orleans, la since 1/1/2013 to the present.\n",
      " \n",
      "please provide city finance distribution to seabrook security district by date range of issues from janurary 2014 through july 31, 2016 thanks\n",
      " \n",
      "a copy of all records pertaining to blight complaints made for the property at 1623-1625 marigny street from 2008 to present including but not limited to  case #13-09029-mpm lama records, all inspection reports and photographs,  intake forms, 311 call records, , code enforcement hearing bureau records, testimony and/or names and complaints of concerned citizens, judgments, post judgment actions including abatement, sheriff's sale/lien, and demolition.\n",
      " \n",
      "requesting bid results and item bid tabulation for contract proposal no. 5001-01698 asphalt pavement services. barriere construction has contract currently. thank you\n",
      " \n",
      "all plans, applications for permits, reviews, etc., submitted by or on behalf of new bridge, cdw, james dart and/or 4000 magazine street, relating to any improvements, changes, construction, and/or modification to the property\n",
      " \n",
      "please provide budget and expenditures for small business programs or initiatives managed by new orleans business alliance (nolaba) and funded by the city of new orleans.\n",
      " \n",
      "august 18, 2016       925 common   305 decatur street   site number:46536           please find this as a formal records request for the above mentioned property:         provide copy of certificate of occupancy for property, if unavailable, why and is this a violation. the only certificate of occupancy found online at  http://www.nola.gov/onestop/ is a temporary co (this temporary certificate of occupancy is valid until january 11, 2014 1st floor mercontile occupancy only)          hard copies are not needed if you could please fax or email information.           respectfully;       anna bennifield   research analyst                 3555 n.w. 58th street, suite 400   oklahoma city, ok  73112   phone: 405.525.2998 ext. 142   fax:     405.528.4878   email:  abennifield@zoning-info.com\n",
      " \n",
      "10/11/2017    please produce the following documents related to the city of new orleans, public works department, and/or the sewer and water board's catch basin cleaning contracts or projects (whether performed with city-owned equipment or equipment owned by third-parties) from january 2015 to july 2017:    - all contracts with third-parties to clean catch basins and/or dispose of materials removed from catch basins   - all logs, manifests, truck tickets, etc. related to the transport and disposal of water and/or materials from catch basin cleaning   - all documents or records from or related to disposal sites for water and/or materials from catch basin cleaning   - equipment specifications and/or owner’s manuals for all city-owned vacuum trucks used  to clean catch basins  please let me know if you have any questions.\n",
      " \n",
      "purpose of this request: to determine if the cea between the city of new orleans and kipp new orleans, inc with an effective date of november 2012 continues to be an active cea..the purpose of this cea was to allow mcdonogh 15 school to use cabrini park for recreational purposes.any records which would verify that this is an active cea\n",
      " \n",
      "any and all department of safety and permits records concerning applications for building permits, notices of violations, and photographs of the property located at 701 bourbon street. applicable time period is from initial construction through current.\n",
      " \n",
      "a list of all home-funded properties being monitored by the city for compliance, including the name of each recipient organization, the address (or address block), the amount of funding, the number of funded units, the contract date and the compliance status for each.\n",
      " \n",
      "1) copies of the following documents pertaining to coastal environmental services for the period january 1, 2010 to present:   a) contracts   b) purchase orders   c) invoices   d)  documents showing payments made to this company   2) copies of the following documents pertaining to coastal construction group of south florida for the period january 1, 2010 to present:   a) contracts   b) purchase orders   c) invoices   d)  documents showing payments made to this company\n",
      " \n",
      "ebi consulting (ebi) is conducting a phase i environmental site assessment (esa) at st. martin's manor located at 1501 n. johnson street, new orleans, la, 70116. as part of the esa process, we would like to request access to inspect records regarding the following, as applicable:     current and historical building permits   current and historical certificates of occupancy   dates of public sewer and water connection   installation or removal of storage tanks (above and underground)   hazardous materials storage or release   hazardous waste generation or discharge   asbestos or lead-based paint abatement      if these records are available, ebi field personnel will be stopping by to review these records in the next several days. we understand that these records may not be available.if there are any questions or concerns, please do not hesitate to contact us.\n",
      " \n",
      "hello, hoping to get any records of hazardous spills/releases, underground/above ground storage tanks removed/installed at the village of versailles located at 14369 saigon drive/14600 dwyer boulevard in new orleans, la.\n",
      " \n",
      "i am requesting public records of the city's efforts to notice property owners of delinquent property taxes due in years  2012, 2013, and 2014 and notice of tax sale in 2015 for the following properties:       37w205904 1624 n rocheblave st   39w406912 1635 louisa st   39w090229 170 horseshoe bend   37w213801 1741 n broad st   716300704 1816 cambronne st   37w110216 1816 touro st   i am also sending a check with check #1048 for $25 to city of new orleans law department 1300 perdido st. 5th floor, nola 70112 for the requested records.\n",
      " \n",
      "copies of any and all permit applications made for construction repairs and/or electrical work performed at 3015 piety street, new orleans, louisiana from the period of august 2009 through august 2012, to include any documents in the file to include inspection reports, certifcations of completion, etc. for the property owner, ezola isaac.\n",
      " \n"
     ]
    }
   ],
   "source": [
    "for q in range(30):\n",
    "    print(result[q])\n",
    "    print(\" \")"
   ]
  },
  {
   "cell_type": "code",
   "execution_count": 10,
   "metadata": {},
   "outputs": [],
   "source": [
    "\n",
    "dic = {}\n",
    "for sent in result:\n",
    "    words = sent.split()\n",
    "    for w in words:\n",
    "        if w not in dic:\n",
    "            dic[w] = {}\n",
    "        for w2 in words:\n",
    "            dic[w][w2]=1"
   ]
  },
  {
   "cell_type": "code",
   "execution_count": 11,
   "metadata": {},
   "outputs": [],
   "source": [
    "#df = pd.DataFrame(dic)\n",
    "#df.fillna(0, inplace=True)"
   ]
  },
  {
   "cell_type": "code",
   "execution_count": 12,
   "metadata": {},
   "outputs": [],
   "source": [
    "#pca = PCA()\n",
    "#res = pca.fit_transform(df)"
   ]
  },
  {
   "cell_type": "code",
   "execution_count": null,
   "metadata": {},
   "outputs": [],
   "source": []
  }
 ],
 "metadata": {
  "kernelspec": {
   "display_name": "Python 3",
   "language": "python",
   "name": "python3"
  },
  "language_info": {
   "codemirror_mode": {
    "name": "ipython",
    "version": 3
   },
   "file_extension": ".py",
   "mimetype": "text/x-python",
   "name": "python",
   "nbconvert_exporter": "python",
   "pygments_lexer": "ipython3",
   "version": "3.7.0"
  }
 },
 "nbformat": 4,
 "nbformat_minor": 2
}
